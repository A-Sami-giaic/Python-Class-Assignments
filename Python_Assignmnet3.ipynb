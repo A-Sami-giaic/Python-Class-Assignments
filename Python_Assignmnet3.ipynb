{
  "nbformat": 4,
  "nbformat_minor": 0,
  "metadata": {
    "colab": {
      "provenance": [],
      "authorship_tag": "ABX9TyOTIarbrX+UHIANbD+Vh1T9",
      "include_colab_link": true
    },
    "kernelspec": {
      "name": "python3",
      "display_name": "Python 3"
    },
    "language_info": {
      "name": "python"
    }
  },
  "cells": [
    {
      "cell_type": "markdown",
      "metadata": {
        "id": "view-in-github",
        "colab_type": "text"
      },
      "source": [
        "<a href=\"https://colab.research.google.com/github/A-Sami-giaic/Python-Class-Assignments/blob/main/Python_Assignmnet3.ipynb\" target=\"_parent\"><img src=\"https://colab.research.google.com/assets/colab-badge.svg\" alt=\"Open In Colab\"/></a>"
      ]
    },
    {
      "cell_type": "code",
      "execution_count": null,
      "metadata": {
        "colab": {
          "base_uri": "https://localhost:8080/"
        },
        "id": "cv-iRS00NExe",
        "outputId": "f160f6fc-b13d-44b8-8558-c207d616f91a"
      },
      "outputs": [
        {
          "output_type": "stream",
          "name": "stdout",
          "text": [
            "Appended List: [10, 20, 30, 40, 50, 60]\n",
            "Extended List: [1, 2, 3, 4, 5, 6]\n",
            "Modified Language List: ['Java', 'C++', 'Python', 'JavaScript', 'Rubby']\n",
            "After Removing First 10: [20, 30, 10, 40]\n",
            "After Pop: [100, 200, 300]\n"
          ]
        }
      ],
      "source": [
        "# 1.Create a list and append a new number\n",
        "numbers = [10, 20, 30, 40, 50]\n",
        "numbers.append(60)\n",
        "print(\"Appended List:\", numbers)\n",
        "\n",
        "# 2.Extend one list with another\n",
        "list1 = [1, 2, 3]\n",
        "list2 = [4, 5, 6]\n",
        "list1.extend(list2)\n",
        "print(\"Extended List:\", list1)\n",
        "\n",
        "# 3.Insert \"Python\" at index 2\n",
        "languages = [\"Java\", \"C++\", \"JavaScript\", \"Rubby\"]\n",
        "languages.insert(2, \"Python\")\n",
        "print(\"Modified Language List:\", languages)\n",
        "\n",
        "# 4.Remove first occurrence of 10\n",
        "values = [10, 20, 30, 10, 40]\n",
        "values.remove(10)\n",
        "print(\"After Removing First 10:\", values)\n",
        "\n",
        "# 5.Pop the last element\n",
        "nums = [100, 200, 300, 400]\n",
        "nums.pop()\n",
        "print(\"After Pop:\", nums)"
      ]
    },
    {
      "cell_type": "code",
      "source": [
        "# 6. Count number 5\n",
        "repeats = [5, 10, 5, 20, 5, 30]\n",
        "count_5 = repeats.count(5)\n",
        "print(\"Number of times 5 appears:\", count_5)\n",
        "\n",
        "# 7. Sort ascending and descending\n",
        "unsorted = [9, 1, 8, 3, 5]\n",
        "ascending = sorted(unsorted)\n",
        "descending = sorted(unsorted, reverse=True)\n",
        "print(\"Ascending:\", ascending)\n",
        "print(\"Descending:\", descending)\n",
        "\n",
        "# 8. Reverse a list\n",
        "fruits = [\"apple\", \"banana\", \"cherry\"]\n",
        "fruits.reverse()\n",
        "print(\"Reversed List:\", fruits)\n",
        "\n",
        "# 9. Copy and modify\n",
        "original = [1, 2, 3, 4, 5]\n",
        "copy_list = original.copy()\n",
        "copy_list.append(6)\n",
        "print(\"Original:\", original)\n",
        "print(\"Modified Copy:\", copy_list)\n",
        "\n",
        "# 10. Clear a list\n",
        "greetings = [\"hello\", \"world\", \"python\"]\n",
        "greetings.clear()\n",
        "print(\"Cleared List:\", greetings)"
      ],
      "metadata": {
        "id": "cF8plIcEN0eY"
      },
      "execution_count": null,
      "outputs": []
    },
    {
      "cell_type": "code",
      "source": [
        "# 11. Accessing third fruit\n",
        "fruit_tuple = (\"apple\", \"banana\", \"mango\", \"grape\", \"orange\")\n",
        "print(\"Third Fruit:\", fruit_tuple[2])\n",
        "\n",
        "# 12. Convert tuple -> list -> remove -> back to tuple\n",
        "num_tuple = (10, 20, 30, 40, 50)\n",
        "temp_list = list(num_tuple)\n",
        "temp_list.remove(30)\n",
        "new_tuple = tuple(temp_list)\n",
        "print(\"Modified Tuple:\", new_tuple)\n",
        "\n",
        "# 13. Try to append to a tuple (this will cause error)\n",
        "immutable = (\"A\", \"B\", \"C\")\n",
        "# immutable.append(\"D\")  # ❌ This will throw an error\n",
        "\n",
        "# Indirect modification\n",
        "temp = list(immutable)\n",
        "temp.append(\"D\")\n",
        "modified_tuple = tuple(temp)\n",
        "print(\"Modified Tuple:\", modified_tuple)\n",
        "\n",
        "# 14. Unpacking a tuple\n",
        "a, b, c = (100, 200, 300)\n",
        "print(\"a =\", a, \", b =\", b, \", c =\", c)\n",
        "\n",
        "# 15. Count 7s\n",
        "tup = (7, 1, 7, 3, 7, 5)\n",
        "print(\"7 appears:\", tup.count(7), \"times\")"
      ],
      "metadata": {
        "id": "tPn6ga8lN3sf"
      },
      "execution_count": null,
      "outputs": []
    },
    {
      "cell_type": "code",
      "source": [
        "# 16. Function to remove even numbers\n",
        "def remove_evens(lst):\n",
        "    return [num for num in lst if num % 2 != 0]\n",
        "\n",
        "print(remove_evens([1, 2, 3, 4, 5, 6]))\n",
        "\n",
        "# 17. Custom sort descending (no sort())\n",
        "def custom_sort_descending(lst):\n",
        "    new_list = []\n",
        "    while lst:\n",
        "        maximum = max(lst)\n",
        "        new_list.append(maximum)\n",
        "        lst.remove(maximum)\n",
        "    return new_list\n",
        "\n",
        "print(custom_sort_descending([3, 1, 4, 1, 5, 9]))\n",
        "\n",
        "# 18. Remove duplicates\n",
        "nums = [1, 2, 2, 3, 4, 4, 5]\n",
        "unique = list(set(nums))\n",
        "print(\"Unique Elements:\", unique)\n",
        "\n",
        "# 19. Tuple    list     remove duplicates     back to tuple\n",
        "names = (\"Alice\", \"Bob\", \"Charlie\", \"Alice\", \"David\")\n",
        "unique_names = tuple(set(names))\n",
        "print(\"Unique Tuple:\", unique_names)\n",
        "\n",
        "# 20. Separate data types\n",
        "def separate_types(data):\n",
        "    ints = [x for x in data if isinstance(x, int)]\n",
        "    strs = [x for x in data if isinstance(x, str)]\n",
        "    floats = [x for x in data if isinstance(x, float)]\n",
        "    return ints, strs, floats\n",
        "\n",
        "mixed = [1, \"hello\", 2.5, \"world\", 3, 4.5]\n",
        "ints, strs, floats = separate_types(mixed)\n",
        "print(\"Integers:\", ints)\n",
        "print(\"Strings:\", strs)\n",
        "print(\"Floats:\", floats)"
      ],
      "metadata": {
        "id": "0DSmnKrMN6Jb"
      },
      "execution_count": null,
      "outputs": []
    }
  ]
}