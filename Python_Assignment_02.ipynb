{
  "nbformat": 4,
  "nbformat_minor": 0,
  "metadata": {
    "colab": {
      "provenance": [],
      "authorship_tag": "ABX9TyOuMBNeb1OaoqTmzcWrQkwF",
      "include_colab_link": true
    },
    "kernelspec": {
      "name": "python3",
      "display_name": "Python 3"
    },
    "language_info": {
      "name": "python"
    }
  },
  "cells": [
    {
      "cell_type": "markdown",
      "metadata": {
        "id": "view-in-github",
        "colab_type": "text"
      },
      "source": [
        "<a href=\"https://colab.research.google.com/github/A-Sami-giaic/Python-Class-Assignments/blob/main/Python_Assignment_02.ipynb\" target=\"_parent\"><img src=\"https://colab.research.google.com/assets/colab-badge.svg\" alt=\"Open In Colab\"/></a>"
      ]
    },
    {
      "cell_type": "code",
      "execution_count": null,
      "metadata": {
        "colab": {
          "base_uri": "https://localhost:8080/"
        },
        "id": "AMXX6s1cLtMC",
        "outputId": "22e1d894-fed0-4e49-bf9e-a46f0197eb44"
      },
      "outputs": [
        {
          "output_type": "stream",
          "name": "stdout",
          "text": [
            "Enter the first number: 5\n",
            "Enter the second number: 89\n",
            "The sum of 5.0 and 89.0 is: 94.0\n"
          ]
        }
      ],
      "source": [
        "#1. Simple Calculator\n",
        "\n",
        "num1 = float(input(\"Enter the first number: \"))\n",
        "num2 = float(input(\"Enter the second number: \"))\n",
        "\n",
        "# Calculating the sum\n",
        "\n",
        "total = num1 + num2\n",
        "\n",
        "print(f\"The sum of {num1} and {num2} is: {total}\")"
      ]
    },
    {
      "cell_type": "code",
      "source": [
        " #2. Simple Grading System\n",
        "\n",
        "marks = float(input(\"Enter your score (out of 100): \"))\n",
        "\n",
        "if marks >= 90:\n",
        "    grade = \"A+\"\n",
        "elif marks >= 80:\n",
        "    grade = \"A\"\n",
        "elif marks >= 70:\n",
        "    grade = \"B\"\n",
        "elif marks >= 60:\n",
        "    grade = \"C\"\n",
        "elif marks >= 50:\n",
        "    grade = \"D\"\n",
        "else:\n",
        "    grade = \"F (Fail)\"\n",
        "\n",
        "#the grade\n",
        "print(f\"Your grade is: {grade}\")"
      ],
      "metadata": {
        "colab": {
          "base_uri": "https://localhost:8080/"
        },
        "id": "MFy4_DyoMxgJ",
        "outputId": "2295ab77-69ab-4cb7-c8b5-a9701590e28f"
      },
      "execution_count": null,
      "outputs": [
        {
          "output_type": "stream",
          "name": "stdout",
          "text": [
            "Enter your score (out of 100): 98\n",
            "Your grade is: A+\n"
          ]
        }
      ]
    }
  ]
}